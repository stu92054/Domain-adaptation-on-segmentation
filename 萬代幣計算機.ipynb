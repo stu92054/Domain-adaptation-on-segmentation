{
  "cells": [
    {
      "cell_type": "markdown",
      "metadata": {
        "id": "view-in-github",
        "colab_type": "text"
      },
      "source": [
        "<a href=\"https://colab.research.google.com/github/stu92054/Domain-adaptation-on-segmentation/blob/master/%E8%90%AC%E4%BB%A3%E5%B9%A3%E8%A8%88%E7%AE%97%E6%A9%9F.ipynb\" target=\"_parent\"><img src=\"https://colab.research.google.com/assets/colab-badge.svg\" alt=\"Open In Colab\"/></a>"
      ]
    },
    {
      "cell_type": "markdown",
      "source": [
        "# 萬代幣計算機\n",
        "\n",
        "萬代幣計算機是一個旨在計算各種萬代幣的組合並減少浪費的專案。使用者可以輸入目標金額，程式會自動計算出最接近目標金額的萬代幣組合，並顯示所需的最少萬代幣數量。這個專案可以幫助使用者更有效地管理萬代幣，減少浪費和不必要的支出。\n",
        "\n",
        "<font size='4'>**免責聲明：本專案程式碼及介紹由GitHub Copilot生成，僅供參考和學術研究之用，使用者需自行承擔使用本專案所產生的風險和責任。**\n",
        "\n",
        "<font size='4'>**本專案的計算結果僅供參考，不保證結果的準確性和完整性。使用者應該自行核實計算結果，並在實際使用前進行詳細的檢查和驗證。本專案的開發者不對任何因使用本專案而導致的損失或損害負責。**\n",
        "\n",
        "special thanks:[夏](https://www.plurk.com/davidegg)，感謝他為將目標金額切成20000以上與以下來改善效能的思路"
      ],
      "metadata": {
        "id": "hTJ9RAvTwAWN"
      }
    },
    {
      "cell_type": "markdown",
      "source": [
        "## 使用方法\n",
        "\n",
        "點擊下方儲存格右上執行按鈕執行程式碼，在下方輸入框填入目標金額後按下Enter鍵。計算機將自動算出最接近目標金額的萬代幣組合，並顯示所需的最少萬代幣數量。"
      ],
      "metadata": {
        "id": "K1c90_Tmyo8k"
      }
    },
    {
      "cell_type": "code",
      "source": [
        "def find_combination(n, bills):\n",
        "    # Sort the bills in descending order\n",
        "    bills = sorted(bills, reverse=True)\n",
        "    # Initialize the memoization table\n",
        "    memo = [[None] * (n+1) for _ in range(len(bills)+1)]\n",
        "    # Define a recursive function to find the combination\n",
        "    def find_combination_helper(i, n):\n",
        "        #print(i, n)\n",
        "        # If the current sum is less than 0, return None\n",
        "        if n < 0:\n",
        "            return None\n",
        "        # If the current sum is 0, return an empty list\n",
        "        if n == 0:\n",
        "            return []\n",
        "        # If the current bill is not valid or the memoization table has a value, return the memoized value\n",
        "        if i >= len(bills) or memo[i][n] is not None:\n",
        "            return memo[i][n]\n",
        "        # Try using the current bill\n",
        "        use_curr = find_combination_helper(i, n - bills[i])\n",
        "        if use_curr is not None:\n",
        "            use_curr = [bills[i]] + use_curr\n",
        "        # Try skipping the current bill\n",
        "        skip_curr = find_combination_helper(i + 1, n)\n",
        "        # Choose the better option\n",
        "        if use_curr is None:\n",
        "            memo[i][n] = skip_curr\n",
        "        elif skip_curr is None:\n",
        "            memo[i][n] = use_curr\n",
        "        else:\n",
        "            memo[i][n] = use_curr if len(use_curr) < len(skip_curr) else skip_curr\n",
        "        return memo[i][n]\n",
        "    # Call the recursive function\n",
        "    result = find_combination_helper(0, n)\n",
        "    # Return the result\n",
        "    if result is None:\n",
        "        return find_combination(n + 1, bills)\n",
        "    return result\n",
        "\n",
        "if __name__ == '__main__':\n",
        "    bills = [273, 300, 455, 500, 910, 1000, 1819, 2000, 2728, 3000, 4546, 5000, 9091, 10000]\n",
        "    target = int(input(\"請輸入目標萬代幣數量:\"))\n",
        "    if target >= 20000:\n",
        "      t = target % 10000 + 10000\n",
        "      remains = [10000] * ((target - 10000) // 10000)\n",
        "      result = remains + find_combination(t, bills)\n",
        "    else:\n",
        "      result = find_combination(target, bills)\n",
        "    print(\"所需萬代幣組合:\",result)\n",
        "    print(\"所需萬代幣總額:\",sum(result))"
      ],
      "metadata": {
        "id": "aFF_EWavlK63"
      },
      "execution_count": null,
      "outputs": []
    }
  ],
  "metadata": {
    "colab": {
      "provenance": [],
      "include_colab_link": true
    },
    "kernelspec": {
      "display_name": "Python 3",
      "name": "python3"
    }
  },
  "nbformat": 4,
  "nbformat_minor": 0
}